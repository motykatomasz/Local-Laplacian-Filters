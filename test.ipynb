{
 "cells": [
  {
   "cell_type": "code",
   "execution_count": 1,
   "metadata": {
    "collapsed": true
   },
   "outputs": [],
   "source": [
    "import numpy as np\n",
    "import cv2\n",
    "from PIL import Image"
   ]
  },
  {
   "cell_type": "code",
   "execution_count": 2,
   "outputs": [],
   "source": [
    "def showImg(img):\n",
    "    pil_image=Image.fromarray(np.uint8(img))\n",
    "    pil_image.show()"
   ],
   "metadata": {
    "collapsed": false,
    "pycharm": {
     "name": "#%%\n"
    }
   }
  },
  {
   "cell_type": "code",
   "execution_count": 8,
   "outputs": [],
   "source": [
    "path = 'data/lena_gray.png'\n",
    "img = cv2.imread(path, cv2.IMREAD_GRAYSCALE)\n",
    "if img is None:\n",
    "    print(\"Could not read image from path: \" + path)\n",
    "\n",
    "showImg(img)"
   ],
   "metadata": {
    "collapsed": false,
    "pycharm": {
     "name": "#%%\n"
    }
   }
  },
  {
   "cell_type": "code",
   "execution_count": 16,
   "outputs": [],
   "source": [
    "def computeGaussianPyramid(img, l: int):\n",
    "    \"\"\"\n",
    "    Computes and returns the Gaussian Pyramid of 'l' levels from image 'img'.\n",
    "    :param img: Image.\n",
    "    :param l: Number of levels.\n",
    "    :return: Gaussian Pyramid.\n",
    "    \"\"\"\n",
    "    G = img.copy()\n",
    "    gpImg = [G]\n",
    "    for i in range(l):\n",
    "        G = cv2.pyrDown(G)\n",
    "        gpImg.append(G)\n",
    "\n",
    "    gpImg.reverse()\n",
    "    return gpImg\n",
    "\n",
    "def computeLaplacianPyramid(img, l: int):\n",
    "    \"\"\"\n",
    "    Computes and returns the Gaussian Pyramid of 'l' levels from image 'img'.\n",
    "    :param img: Image.\n",
    "    :param l: Number of levels.\n",
    "    :return: Laplacian Pyramid.\n",
    "    \"\"\"\n",
    "    gpImg = computeGaussianPyramid(img, l)\n",
    "    lpImg = [gpImg[0]]\n",
    "    for i in range(l):\n",
    "        GE = cv2.pyrUp(gpImg[i])\n",
    "        L = cv2.subtract(gpImg[i + 1], GE)\n",
    "        lpImg.append(L)\n",
    "\n",
    "    return lpImg\n",
    "\n",
    "def reconstructLaplacianPyramid(lp):\n",
    "    \"\"\"\n",
    "    Reconstructs image from Laplacian Pyramid.\n",
    "    :param lp: Laplacian Pyramid\n",
    "    :param l: Number of levels\n",
    "    :return: Reconstructed image\n",
    "    \"\"\"\n",
    "    l = len(lp)\n",
    "\n",
    "    reconstruction = lp[0]\n",
    "    for i in range(1, l):\n",
    "        reconstruction = cv2.pyrUp(reconstruction)\n",
    "        reconstruction = cv2.add(reconstruction, lp[i])\n",
    "\n",
    "    return reconstruction"
   ],
   "metadata": {
    "collapsed": false,
    "pycharm": {
     "name": "#%%\n"
    }
   }
  },
  {
   "cell_type": "code",
   "execution_count": 17,
   "outputs": [],
   "source": [
    "lp = computeLaplacianPyramid(img, 3)\n",
    "r_img = reconstructLaplacianPyramid(lp)"
   ],
   "metadata": {
    "collapsed": false,
    "pycharm": {
     "name": "#%%\n"
    }
   }
  },
  {
   "cell_type": "code",
   "execution_count": 18,
   "outputs": [],
   "source": [
    "showImg(img)"
   ],
   "metadata": {
    "collapsed": false,
    "pycharm": {
     "name": "#%%\n"
    }
   }
  },
  {
   "cell_type": "code",
   "execution_count": 19,
   "outputs": [],
   "source": [
    "showImg(r_img)"
   ],
   "metadata": {
    "collapsed": false,
    "pycharm": {
     "name": "#%%\n"
    }
   }
  },
  {
   "cell_type": "code",
   "execution_count": 9,
   "outputs": [],
   "source": [
    "size = 128\n",
    "img = cv2.resize(img, (size, size))"
   ],
   "metadata": {
    "collapsed": false,
    "pycharm": {
     "name": "#%%\n"
    }
   }
  },
  {
   "cell_type": "code",
   "execution_count": 10,
   "outputs": [
    {
     "data": {
      "text/plain": "True"
     },
     "execution_count": 10,
     "metadata": {},
     "output_type": "execute_result"
    }
   ],
   "source": [
    "cv2.imwrite(f'data/lena_gray_{size}.png', img)"
   ],
   "metadata": {
    "collapsed": false,
    "pycharm": {
     "name": "#%%\n"
    }
   }
  }
 ],
 "metadata": {
  "kernelspec": {
   "display_name": "Python 3",
   "language": "python",
   "name": "python3"
  },
  "language_info": {
   "codemirror_mode": {
    "name": "ipython",
    "version": 2
   },
   "file_extension": ".py",
   "mimetype": "text/x-python",
   "name": "python",
   "nbconvert_exporter": "python",
   "pygments_lexer": "ipython2",
   "version": "2.7.6"
  }
 },
 "nbformat": 4,
 "nbformat_minor": 0
}